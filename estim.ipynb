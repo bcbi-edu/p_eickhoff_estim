{
  "nbformat": 4,
  "nbformat_minor": 0,
  "metadata": {
    "colab": {
      "name": "estim.ipynb",
      "provenance": [],
      "collapsed_sections": [],
      "toc_visible": true
    },
    "kernelspec": {
      "name": "python3",
      "display_name": "Python 3"
    }
  },
  "cells": [
    {
      "cell_type": "markdown",
      "metadata": {
        "id": "ePYDxn2KIFZL",
        "colab_type": "text"
      },
      "source": [
        "#ESTIM\n",
        "\n",
        "\n",
        "\n",
        "---\n",
        "\n",
        "\n",
        "\n"
      ]
    },
    {
      "cell_type": "markdown",
      "metadata": {
        "id": "pOGEaopzK-H7",
        "colab_type": "text"
      },
      "source": [
        "This Python Notebook will walk you through applying different machine learning models to your own dataset (should update after writing abstract)\n"
      ]
    },
    {
      "cell_type": "markdown",
      "metadata": {
        "id": "ziHYDZ8CJDCk",
        "colab_type": "text"
      },
      "source": [
        "##Inputting Your Data\n",
        "\n",
        "---\n",
        "\n"
      ]
    },
    {
      "cell_type": "markdown",
      "metadata": {
        "id": "TWoQ4XGQLxiU",
        "colab_type": "text"
      },
      "source": [
        "Put all of your data in the data folder"
      ]
    },
    {
      "cell_type": "code",
      "metadata": {
        "id": "Sq1W8jjuLR53",
        "colab_type": "code",
        "colab": {}
      },
      "source": [
        "data_dir = \"data\""
      ],
      "execution_count": null,
      "outputs": []
    },
    {
      "cell_type": "code",
      "metadata": {
        "id": "XlZXc_INL3Yd",
        "colab_type": "code",
        "colab": {}
      },
      "source": [
        ""
      ],
      "execution_count": null,
      "outputs": []
    },
    {
      "cell_type": "markdown",
      "metadata": {
        "id": "qQ3v9LdHJXq1",
        "colab_type": "text"
      },
      "source": [
        "##Importing Packages\n",
        "\n",
        "---\n",
        "\n"
      ]
    },
    {
      "cell_type": "markdown",
      "metadata": {
        "id": "_XkR0JEkKTyh",
        "colab_type": "text"
      },
      "source": [
        "\n",
        "\n",
        "> General Imports:\n",
        "\n",
        "\n",
        "\n",
        "\n",
        "\n"
      ]
    },
    {
      "cell_type": "code",
      "metadata": {
        "id": "B9gnJcRCKP8z",
        "colab_type": "code",
        "colab": {}
      },
      "source": [
        "import math, csv, random, time\n",
        "import numpy as np\n",
        "import pandas as pd\n",
        "import sklearn\n",
        "from sklearn import preprocessing\n",
        "import glob\n",
        "from collections import defaultdict\n",
        "import matplotlib.pyplot as plt"
      ],
      "execution_count": null,
      "outputs": []
    },
    {
      "cell_type": "markdown",
      "metadata": {
        "id": "FG0X0az4Kp5u",
        "colab_type": "text"
      },
      "source": [
        "\n",
        "\n",
        "> Model Imports:\n",
        "\n",
        " NOTE: LIKELY MISSING SOME\n"
      ]
    },
    {
      "cell_type": "code",
      "metadata": {
        "id": "vVMFz4F2Kqkn",
        "colab_type": "code",
        "colab": {}
      },
      "source": [
        "from sklearn.neural_network import MLPRegressor\n",
        "from sklearn.ensemble import RandomForestRegressor\n",
        "from sklearn.svm import SVR\n",
        "from sklearn.feature_selection import chi2"
      ],
      "execution_count": null,
      "outputs": []
    },
    {
      "cell_type": "markdown",
      "metadata": {
        "id": "DX4fDRhELghO",
        "colab_type": "text"
      },
      "source": [
        "> Evaluation Imports:"
      ]
    },
    {
      "cell_type": "code",
      "metadata": {
        "id": "M3Q94OjDLlkZ",
        "colab_type": "code",
        "colab": {}
      },
      "source": [
        "from sklearn.metrics import mean_squared_error, mean_absolute_error\n",
        "from sklearn.model_selection import train_test_split, GridSearchCV"
      ],
      "execution_count": null,
      "outputs": []
    },
    {
      "cell_type": "markdown",
      "metadata": {
        "id": "V0sK8GgNIbwW",
        "colab_type": "text"
      },
      "source": [
        "##Intra-subject"
      ]
    },
    {
      "cell_type": "markdown",
      "metadata": {
        "id": "9VlNkykEMGTA",
        "colab_type": "text"
      },
      "source": [
        ">MLP:"
      ]
    },
    {
      "cell_type": "code",
      "metadata": {
        "id": "VBzokZGfI-JQ",
        "colab_type": "code",
        "colab": {}
      },
      "source": [
        ""
      ],
      "execution_count": null,
      "outputs": []
    },
    {
      "cell_type": "markdown",
      "metadata": {
        "id": "7MO7YDdOMaLX",
        "colab_type": "text"
      },
      "source": [
        "> Random Forest:"
      ]
    },
    {
      "cell_type": "code",
      "metadata": {
        "id": "aRh8ItaQMcnl",
        "colab_type": "code",
        "colab": {}
      },
      "source": [
        ""
      ],
      "execution_count": null,
      "outputs": []
    },
    {
      "cell_type": "markdown",
      "metadata": {
        "id": "ZldaQxQQIoIm",
        "colab_type": "text"
      },
      "source": [
        "##Cross-Subject"
      ]
    },
    {
      "cell_type": "code",
      "metadata": {
        "id": "Atsm7PfvH69Z",
        "colab_type": "code",
        "colab": {}
      },
      "source": [
        ""
      ],
      "execution_count": null,
      "outputs": []
    },
    {
      "cell_type": "markdown",
      "metadata": {
        "id": "_oOQsBhiJXY3",
        "colab_type": "text"
      },
      "source": [
        "##Incremental Pre-Trained"
      ]
    },
    {
      "cell_type": "code",
      "metadata": {
        "id": "2A_48bia8TVX",
        "colab_type": "code",
        "colab": {}
      },
      "source": [
        ""
      ],
      "execution_count": null,
      "outputs": []
    },
    {
      "cell_type": "markdown",
      "metadata": {
        "id": "zUB2_YsA8IQ7",
        "colab_type": "text"
      },
      "source": [
        "##Active Learning"
      ]
    },
    {
      "cell_type": "code",
      "metadata": {
        "id": "Q5DZF3l48H8r",
        "colab_type": "code",
        "colab": {}
      },
      "source": [
        ""
      ],
      "execution_count": null,
      "outputs": []
    }
  ]
}